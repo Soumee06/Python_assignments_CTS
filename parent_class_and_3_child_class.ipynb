{
  "nbformat": 4,
  "nbformat_minor": 0,
  "metadata": {
    "colab": {
      "provenance": []
    },
    "kernelspec": {
      "name": "python3",
      "display_name": "Python 3"
    },
    "language_info": {
      "name": "python"
    }
  },
  "cells": [
    {
      "cell_type": "markdown",
      "metadata": {
        "id": "view-in-github"
      },
      "source": [
        "<a href=\"https://colab.research.google.com/github/karkaushik/tech_class_assignments/blob/main/parent%20class%20and%203%20child%20class.ipynb\" target=\"_parent\"><img src=\"https://colab.research.google.com/assets/colab-badge.svg\" alt=\"Open In Colab\"/></a>"
      ]
    },
    {
      "cell_type": "markdown",
      "source": [
        "Making a parent class and 3 different child class"
      ],
      "metadata": {
        "id": "4CSil4WbWj9u"
      }
    },
    {
      "cell_type": "markdown",
      "source": [
        "Making a parent class and 3 different child class"
      ],
      "metadata": {
        "id": "juYQ-TLPWJBq"
      }
    },
    {
      "cell_type": "code",
      "execution_count": 7,
      "metadata": {
        "colab": {
          "base_uri": "https://localhost:8080/"
        },
        "id": "E0eBrtUZMGAz",
        "outputId": "284c8955-0250-4360-91f6-e40fae8afb76"
      },
      "outputs": [
        {
          "output_type": "stream",
          "name": "stdout",
          "text": [
            "Soumee Ghosh\n"
          ]
        }
      ],
      "source": [
        "#parent_class\n",
        "class person:\n",
        "    def __init__(self,f_name,l_name):\n",
        "        self.f_name = f_name\n",
        "        self.l_name= l_name\n",
        "        \n",
        "    def printname(self):\n",
        "        print(self.f_name,self.l_name)\n",
        "\n",
        "x=person(\"Soumee\",\"Ghosh\")\n",
        "x.printname()\n",
        "        "
      ]
    },
    {
      "cell_type": "code",
      "source": [
        "#child_class_1\n",
        "# not adding any other thing just inherit the parent class to a child class\n",
        "\n",
        "class student(person):\n",
        "  pass\n",
        "\n",
        "x=person(\"Sharmita\",\"Saha\")\n",
        "x.printname()\n"
      ],
      "metadata": {
        "colab": {
          "base_uri": "https://localhost:8080/"
        },
        "id": "bOUF7_HLNCzO",
        "outputId": "a24db29b-2639-4c86-d294-811a2c6d6570"
      },
      "execution_count": 8,
      "outputs": [
        {
          "output_type": "stream",
          "name": "stdout",
          "text": [
            "Sharmita Saha\n"
          ]
        }
      ]
    },
    {
      "cell_type": "code",
      "source": [
        "#child_class_2\n",
        "\n",
        "class employee(person):\n",
        "  def __init__(self,f_name, l_name,emp_id):\n",
        "    self.emp_id=emp_id\n",
        "    person.__init__(self,f_name,l_name)  \n",
        "  \n",
        "  def show(self):\n",
        "    print(self.emp_id)\n",
        "\n",
        "y=employee(\"Soumee\",\"Ghosh\",67856)\n",
        "y.printname()\n",
        "y.show()\n",
        "    "
      ],
      "metadata": {
        "colab": {
          "base_uri": "https://localhost:8080/"
        },
        "id": "4G2sEK7sRqa3",
        "outputId": "c9bc0ed8-5332-4d7e-ca60-3a12b78bbf2c"
      },
      "execution_count": 9,
      "outputs": [
        {
          "output_type": "stream",
          "name": "stdout",
          "text": [
            "Soumee Ghosh\n",
            "67856\n"
          ]
        }
      ]
    },
    {
      "cell_type": "code",
      "source": [
        "#child_class_3\n",
        "\n",
        "class staff(person):\n",
        "  def __init__(self,f_lane,l_name,exp,promotion):\n",
        "    self.exp=exp\n",
        "    self.promotion=promotion\n",
        "    person.__init__(self,f_lane,l_name)\n",
        "\n",
        "  def show(self):\n",
        "    print(self.exp)\n",
        "    print(self.promotion)\n",
        "\n",
        "z=staff(\"Soumee\",\"Ghosh\",3,1)\n",
        "z.printname()\n",
        "z.show()"
      ],
      "metadata": {
        "colab": {
          "base_uri": "https://localhost:8080/"
        },
        "id": "nwBJCqazUMpB",
        "outputId": "3a683886-53e6-4c3b-fdd0-852cee88b686"
      },
      "execution_count": 10,
      "outputs": [
        {
          "output_type": "stream",
          "name": "stdout",
          "text": [
            "Soumee Ghosh\n",
            "3\n",
            "1\n"
          ]
        }
      ]
    },
    {
      "cell_type": "code",
      "source": [],
      "metadata": {
        "id": "dEAyrMiUxMFu"
      },
      "execution_count": null,
      "outputs": []
    }
  ]
}